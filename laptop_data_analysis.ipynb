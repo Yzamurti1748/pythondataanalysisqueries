{
 "cells": [
  {
   "cell_type": "code",
   "execution_count": 13,
   "metadata": {},
   "outputs": [
    {
     "name": "stdout",
     "output_type": "stream",
     "text": [
      "   index   brand                                              Model  Price  \\\n",
      "0      1   tecno  Tecno Megabook T1 Laptop (11th Gen Core i3/ 8G...  23990   \n",
      "1      2   tecno  Tecno Megabook T1 Laptop (11th Gen Core i7/ 16...  35990   \n",
      "2      3      hp  HP Victus 15-fb0157AX Gaming Laptop (AMD Ryzen...  51100   \n",
      "3      4    acer  Acer Extensa EX214-53 Laptop (12th Gen Core i5...  39990   \n",
      "4      5  lenovo  Lenovo V15 82KDA01BIH Laptop (AMD Ryzen 3 5300...  28580   \n",
      "\n",
      "   Rating processor_brand processor_tier  num_cores  num_threads  ram_memory  \\\n",
      "0      63           intel        core i3          2            4           8   \n",
      "1      67           intel        core i7          4            8          16   \n",
      "2      73             amd        ryzen 5          6           12           8   \n",
      "3      62           intel        core i5         12           16           8   \n",
      "4      62             amd        ryzen 3          4            8           8   \n",
      "\n",
      "   ... secondary_storage_type  secondary_storage_capacity gpu_brand  \\\n",
      "0  ...   No secondary storage                           0     intel   \n",
      "1  ...   No secondary storage                           0     intel   \n",
      "2  ...   No secondary storage                           0       amd   \n",
      "3  ...   No secondary storage                           0     intel   \n",
      "4  ...   No secondary storage                           0       amd   \n",
      "\n",
      "     gpu_type is_touch_screen display_size  resolution_width  \\\n",
      "0  integrated           False         15.6              1920   \n",
      "1  integrated           False         15.6              1920   \n",
      "2   dedicated           False         15.6              1920   \n",
      "3  integrated           False         14.0              1920   \n",
      "4  integrated           False         15.6              1920   \n",
      "\n",
      "   resolution_height       OS  year_of_warranty  \n",
      "0               1080  windows                 1  \n",
      "1               1080  windows                 1  \n",
      "2               1080  windows                 1  \n",
      "3               1080  windows                 1  \n",
      "4               1080  windows                 1  \n",
      "\n",
      "[5 rows x 22 columns]\n"
     ]
    }
   ],
   "source": [
    "import pandas as pd\n",
    "\n",
    "df = pd.read_csv('laptops.csv')\n",
    "\n",
    "print(df.head())"
   ]
  },
  {
   "cell_type": "code",
   "execution_count": 14,
   "metadata": {},
   "outputs": [
    {
     "name": "stdout",
     "output_type": "stream",
     "text": [
      "<class 'pandas.core.frame.DataFrame'>\n",
      "RangeIndex: 991 entries, 0 to 990\n",
      "Data columns (total 22 columns):\n",
      " #   Column                      Non-Null Count  Dtype  \n",
      "---  ------                      --------------  -----  \n",
      " 0   index                       991 non-null    int64  \n",
      " 1   brand                       991 non-null    object \n",
      " 2   Model                       991 non-null    object \n",
      " 3   Price                       991 non-null    int64  \n",
      " 4   Rating                      991 non-null    int64  \n",
      " 5   processor_brand             991 non-null    object \n",
      " 6   processor_tier              991 non-null    object \n",
      " 7   num_cores                   991 non-null    int64  \n",
      " 8   num_threads                 991 non-null    int64  \n",
      " 9   ram_memory                  991 non-null    int64  \n",
      " 10  primary_storage_type        991 non-null    object \n",
      " 11  primary_storage_capacity    991 non-null    int64  \n",
      " 12  secondary_storage_type      991 non-null    object \n",
      " 13  secondary_storage_capacity  991 non-null    int64  \n",
      " 14  gpu_brand                   991 non-null    object \n",
      " 15  gpu_type                    991 non-null    object \n",
      " 16  is_touch_screen             991 non-null    bool   \n",
      " 17  display_size                991 non-null    float64\n",
      " 18  resolution_width            991 non-null    int64  \n",
      " 19  resolution_height           991 non-null    int64  \n",
      " 20  OS                          991 non-null    object \n",
      " 21  year_of_warranty            991 non-null    object \n",
      "dtypes: bool(1), float64(1), int64(10), object(10)\n",
      "memory usage: 163.7+ KB\n",
      "None\n"
     ]
    }
   ],
   "source": [
    "print(df.info())"
   ]
  },
  {
   "cell_type": "code",
   "execution_count": 15,
   "metadata": {},
   "outputs": [
    {
     "data": {
      "text/plain": [
       "brand\n",
       "asus         210\n",
       "hp           205\n",
       "lenovo       201\n",
       "dell         106\n",
       "msi           90\n",
       "acer          89\n",
       "apple         15\n",
       "infinix       13\n",
       "samsung        7\n",
       "zebronics      7\n",
       "lg             7\n",
       "ultimus        6\n",
       "fujitsu        5\n",
       "avita          5\n",
       "wings          4\n",
       "chuwi          4\n",
       "realme         2\n",
       "microsoft      2\n",
       "tecno          2\n",
       "axl            2\n",
       "honor          2\n",
       "gigabyte       2\n",
       "primebook      2\n",
       "jio            1\n",
       "walker         1\n",
       "iball          1\n",
       "Name: count, dtype: int64"
      ]
     },
     "execution_count": 15,
     "metadata": {},
     "output_type": "execute_result"
    }
   ],
   "source": [
    "df['brand'].value_counts()"
   ]
  },
  {
   "cell_type": "code",
   "execution_count": 16,
   "metadata": {},
   "outputs": [
    {
     "data": {
      "text/plain": [
       "gpu_brand\n",
       "intel     462\n",
       "nvidia    343\n",
       "amd       167\n",
       "apple      15\n",
       "arm         4\n",
       "Name: count, dtype: int64"
      ]
     },
     "execution_count": 16,
     "metadata": {},
     "output_type": "execute_result"
    }
   ],
   "source": [
    "df['gpu_brand'].value_counts()"
   ]
  },
  {
   "cell_type": "code",
   "execution_count": 17,
   "metadata": {},
   "outputs": [
    {
     "data": {
      "text/plain": [
       "processor_brand\n",
       "intel    705\n",
       "amd      267\n",
       "apple     15\n",
       "other      4\n",
       "Name: count, dtype: int64"
      ]
     },
     "execution_count": 17,
     "metadata": {},
     "output_type": "execute_result"
    }
   ],
   "source": [
    "df['processor_brand'].value_counts()"
   ]
  },
  {
   "cell_type": "code",
   "execution_count": 18,
   "metadata": {},
   "outputs": [
    {
     "data": {
      "image/png": "[encoded data removed]",
      "text/plain": [
       "<Figure size 640x480 with 1 Axes>"
      ]
     },
     "metadata": {},
     "output_type": "display_data"
    }
   ],
   "source": [
    "import pandas as pd\n",
    "import matplotlib.pyplot as plt\n",
    "\n",
    "df ['processor_brand'].value_counts()\n",
    "cpu_counts = df ['processor_brand'].value_counts()\n",
    "top_5_cpu_models = cpu_counts.nlargest(5)\n",
    "\n",
    "plt.bar(top_5_cpu_models.index, top_5_cpu_models.values)\n",
    "plt.xlabel('CPU Model')\n",
    "plt.ylabel('Count')\n",
    "plt.title('CPU Brand')\n",
    "plt.show()\n",
    "\n"
   ]
  },
  {
   "cell_type": "code",
   "execution_count": 19,
   "metadata": {},
   "outputs": [
    {
     "data": {
      "image/png": "[encoded data removed]",
      "text/plain": [
       "<Figure size 640x480 with 1 Axes>"
      ]
     },
     "metadata": {},
     "output_type": "display_data"
    }
   ],
   "source": [
    "df ['brand'].value_counts()\n",
    "brand_counts = df ['brand'].value_counts()\n",
    "top_5_brands = brand_counts.nlargest(5)\n",
    "\n",
    "plt.bar(top_5_brands.index, top_5_brands.values)\n",
    "plt.xlabel('brands')\n",
    "plt.ylabel('counts')\n",
    "plt.title('Top 5 Laptop Brands')\n",
    "plt.show()"
   ]
  }
 ],
 "metadata": {
  "kernelspec": {
   "display_name": "Python 3",
   "language": "python",
   "name": "python3"
  },
  "language_info": {
   "codemirror_mode": {
    "name": "ipython",
    "version": 3
   },
   "file_extension": ".py",
   "mimetype": "text/x-python",
   "name": "python",
   "nbconvert_exporter": "python",
   "pygments_lexer": "ipython3",
   "version": "3.12.2"
  }
 },
 "nbformat": 4,
 "nbformat_minor": 2
}
